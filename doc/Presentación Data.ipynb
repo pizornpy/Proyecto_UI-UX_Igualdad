{
 "cells": [
  {
   "cell_type": "code",
   "execution_count": 33,
   "id": "68c9273e",
   "metadata": {},
   "outputs": [],
   "source": [
    "import pandas as pd\n",
    "from bayes import *"
   ]
  },
  {
   "cell_type": "code",
   "execution_count": 88,
   "id": "f761fc55",
   "metadata": {},
   "outputs": [
    {
     "data": {
      "text/html": [
       "<div>\n",
       "<style scoped>\n",
       "    .dataframe tbody tr th:only-of-type {\n",
       "        vertical-align: middle;\n",
       "    }\n",
       "\n",
       "    .dataframe tbody tr th {\n",
       "        vertical-align: top;\n",
       "    }\n",
       "\n",
       "    .dataframe thead th {\n",
       "        text-align: right;\n",
       "    }\n",
       "</style>\n",
       "<table border=\"1\" class=\"dataframe\">\n",
       "  <thead>\n",
       "    <tr style=\"text-align: right;\">\n",
       "      <th></th>\n",
       "      <th>Personas</th>\n",
       "      <th>Tiempo TOTAL</th>\n",
       "      <th>Unnamed: 2</th>\n",
       "      <th>Buscador</th>\n",
       "      <th>Filtro</th>\n",
       "      <th>Cesta</th>\n",
       "      <th>Unnamed: 6</th>\n",
       "      <th>Unnamed: 7</th>\n",
       "    </tr>\n",
       "  </thead>\n",
       "  <tbody>\n",
       "    <tr>\n",
       "      <th>0</th>\n",
       "      <td>1</td>\n",
       "      <td>1:10.89</td>\n",
       "      <td>0</td>\n",
       "      <td>1</td>\n",
       "      <td>0</td>\n",
       "      <td>1</td>\n",
       "      <td>NaN</td>\n",
       "      <td>NaN</td>\n",
       "    </tr>\n",
       "    <tr>\n",
       "      <th>1</th>\n",
       "      <td>2</td>\n",
       "      <td>1:01.02</td>\n",
       "      <td>0</td>\n",
       "      <td>1</td>\n",
       "      <td>0</td>\n",
       "      <td>0</td>\n",
       "      <td>NaN</td>\n",
       "      <td>NaN</td>\n",
       "    </tr>\n",
       "    <tr>\n",
       "      <th>2</th>\n",
       "      <td>3</td>\n",
       "      <td>0:41.55</td>\n",
       "      <td>1</td>\n",
       "      <td>1</td>\n",
       "      <td>0</td>\n",
       "      <td>0</td>\n",
       "      <td>NaN</td>\n",
       "      <td>0:42:00</td>\n",
       "    </tr>\n",
       "    <tr>\n",
       "      <th>3</th>\n",
       "      <td>4</td>\n",
       "      <td>0:37.29</td>\n",
       "      <td>1</td>\n",
       "      <td>1</td>\n",
       "      <td>0</td>\n",
       "      <td>1</td>\n",
       "      <td>NaN</td>\n",
       "      <td>NaN</td>\n",
       "    </tr>\n",
       "    <tr>\n",
       "      <th>4</th>\n",
       "      <td>5</td>\n",
       "      <td>0:42.46</td>\n",
       "      <td>0</td>\n",
       "      <td>1</td>\n",
       "      <td>0</td>\n",
       "      <td>1</td>\n",
       "      <td>NaN</td>\n",
       "      <td>NaN</td>\n",
       "    </tr>\n",
       "  </tbody>\n",
       "</table>\n",
       "</div>"
      ],
      "text/plain": [
       "   Personas Tiempo TOTAL  Unnamed: 2  Buscador  Filtro  Cesta  Unnamed: 6   \n",
       "0         1      1:10.89           0         1       0      1         NaN  \\\n",
       "1         2      1:01.02           0         1       0      0         NaN   \n",
       "2         3      0:41.55           1         1       0      0         NaN   \n",
       "3         4      0:37.29           1         1       0      1         NaN   \n",
       "4         5      0:42.46           0         1       0      1         NaN   \n",
       "\n",
       "  Unnamed: 7  \n",
       "0        NaN  \n",
       "1        NaN  \n",
       "2    0:42:00  \n",
       "3        NaN  \n",
       "4        NaN  "
      ]
     },
     "execution_count": 88,
     "metadata": {},
     "output_type": "execute_result"
    }
   ],
   "source": [
    "datA = pd.read_csv('./DatA.csv')\n",
    "datA.head()"
   ]
  },
  {
   "cell_type": "code",
   "execution_count": 89,
   "id": "5e8df605",
   "metadata": {},
   "outputs": [],
   "source": [
    "datA = datA.drop(['Unnamed: 6', 'Unnamed: 7'], axis=1)"
   ]
  },
  {
   "cell_type": "code",
   "execution_count": 90,
   "id": "ec948a29",
   "metadata": {},
   "outputs": [
    {
     "data": {
      "text/html": [
       "<div>\n",
       "<style scoped>\n",
       "    .dataframe tbody tr th:only-of-type {\n",
       "        vertical-align: middle;\n",
       "    }\n",
       "\n",
       "    .dataframe tbody tr th {\n",
       "        vertical-align: top;\n",
       "    }\n",
       "\n",
       "    .dataframe thead th {\n",
       "        text-align: right;\n",
       "    }\n",
       "</style>\n",
       "<table border=\"1\" class=\"dataframe\">\n",
       "  <thead>\n",
       "    <tr style=\"text-align: right;\">\n",
       "      <th></th>\n",
       "      <th>Personas</th>\n",
       "      <th>Tiempo TOTAL</th>\n",
       "      <th>Unnamed: 2</th>\n",
       "      <th>Buscador</th>\n",
       "      <th>Filtro</th>\n",
       "      <th>Cesta</th>\n",
       "    </tr>\n",
       "  </thead>\n",
       "  <tbody>\n",
       "    <tr>\n",
       "      <th>0</th>\n",
       "      <td>1</td>\n",
       "      <td>1:10.89</td>\n",
       "      <td>0</td>\n",
       "      <td>1</td>\n",
       "      <td>0</td>\n",
       "      <td>1</td>\n",
       "    </tr>\n",
       "    <tr>\n",
       "      <th>1</th>\n",
       "      <td>2</td>\n",
       "      <td>1:01.02</td>\n",
       "      <td>0</td>\n",
       "      <td>1</td>\n",
       "      <td>0</td>\n",
       "      <td>0</td>\n",
       "    </tr>\n",
       "    <tr>\n",
       "      <th>2</th>\n",
       "      <td>3</td>\n",
       "      <td>0:41.55</td>\n",
       "      <td>1</td>\n",
       "      <td>1</td>\n",
       "      <td>0</td>\n",
       "      <td>0</td>\n",
       "    </tr>\n",
       "    <tr>\n",
       "      <th>3</th>\n",
       "      <td>4</td>\n",
       "      <td>0:37.29</td>\n",
       "      <td>1</td>\n",
       "      <td>1</td>\n",
       "      <td>0</td>\n",
       "      <td>1</td>\n",
       "    </tr>\n",
       "    <tr>\n",
       "      <th>4</th>\n",
       "      <td>5</td>\n",
       "      <td>0:42.46</td>\n",
       "      <td>0</td>\n",
       "      <td>1</td>\n",
       "      <td>0</td>\n",
       "      <td>1</td>\n",
       "    </tr>\n",
       "  </tbody>\n",
       "</table>\n",
       "</div>"
      ],
      "text/plain": [
       "   Personas Tiempo TOTAL  Unnamed: 2  Buscador  Filtro  Cesta\n",
       "0         1      1:10.89           0         1       0      1\n",
       "1         2      1:01.02           0         1       0      0\n",
       "2         3      0:41.55           1         1       0      0\n",
       "3         4      0:37.29           1         1       0      1\n",
       "4         5      0:42.46           0         1       0      1"
      ]
     },
     "execution_count": 90,
     "metadata": {},
     "output_type": "execute_result"
    }
   ],
   "source": [
    "datA.head()"
   ]
  },
  {
   "cell_type": "code",
   "execution_count": 91,
   "id": "004e246b",
   "metadata": {},
   "outputs": [],
   "source": [
    "datA = datA.rename(columns = {'Unnamed: 2': 'TiempoBin'})"
   ]
  },
  {
   "cell_type": "code",
   "execution_count": 92,
   "id": "ea5128b6",
   "metadata": {},
   "outputs": [],
   "source": [
    "datA = datA.drop(['Filtro'], axis=1)"
   ]
  },
  {
   "cell_type": "code",
   "execution_count": 93,
   "id": "71e3654b",
   "metadata": {},
   "outputs": [
    {
     "data": {
      "text/html": [
       "<div>\n",
       "<style scoped>\n",
       "    .dataframe tbody tr th:only-of-type {\n",
       "        vertical-align: middle;\n",
       "    }\n",
       "\n",
       "    .dataframe tbody tr th {\n",
       "        vertical-align: top;\n",
       "    }\n",
       "\n",
       "    .dataframe thead th {\n",
       "        text-align: right;\n",
       "    }\n",
       "</style>\n",
       "<table border=\"1\" class=\"dataframe\">\n",
       "  <thead>\n",
       "    <tr style=\"text-align: right;\">\n",
       "      <th></th>\n",
       "      <th>Personas</th>\n",
       "      <th>Tiempo TOTAL</th>\n",
       "      <th>TiempoBin</th>\n",
       "      <th>Buscador</th>\n",
       "      <th>Cesta</th>\n",
       "    </tr>\n",
       "  </thead>\n",
       "  <tbody>\n",
       "    <tr>\n",
       "      <th>0</th>\n",
       "      <td>1</td>\n",
       "      <td>1:10.89</td>\n",
       "      <td>0</td>\n",
       "      <td>1</td>\n",
       "      <td>1</td>\n",
       "    </tr>\n",
       "    <tr>\n",
       "      <th>1</th>\n",
       "      <td>2</td>\n",
       "      <td>1:01.02</td>\n",
       "      <td>0</td>\n",
       "      <td>1</td>\n",
       "      <td>0</td>\n",
       "    </tr>\n",
       "    <tr>\n",
       "      <th>2</th>\n",
       "      <td>3</td>\n",
       "      <td>0:41.55</td>\n",
       "      <td>1</td>\n",
       "      <td>1</td>\n",
       "      <td>0</td>\n",
       "    </tr>\n",
       "    <tr>\n",
       "      <th>3</th>\n",
       "      <td>4</td>\n",
       "      <td>0:37.29</td>\n",
       "      <td>1</td>\n",
       "      <td>1</td>\n",
       "      <td>1</td>\n",
       "    </tr>\n",
       "    <tr>\n",
       "      <th>4</th>\n",
       "      <td>5</td>\n",
       "      <td>0:42.46</td>\n",
       "      <td>0</td>\n",
       "      <td>1</td>\n",
       "      <td>1</td>\n",
       "    </tr>\n",
       "  </tbody>\n",
       "</table>\n",
       "</div>"
      ],
      "text/plain": [
       "   Personas Tiempo TOTAL  TiempoBin  Buscador  Cesta\n",
       "0         1      1:10.89          0         1      1\n",
       "1         2      1:01.02          0         1      0\n",
       "2         3      0:41.55          1         1      0\n",
       "3         4      0:37.29          1         1      1\n",
       "4         5      0:42.46          0         1      1"
      ]
     },
     "execution_count": 93,
     "metadata": {},
     "output_type": "execute_result"
    }
   ],
   "source": [
    "datA.head()"
   ]
  },
  {
   "cell_type": "markdown",
   "id": "950d6d4d",
   "metadata": {},
   "source": [
    "# Análisis de Tiempo\n",
    "---\n",
    "Vamos a analizar las impresiones frente conversiones"
   ]
  },
  {
   "cell_type": "code",
   "execution_count": 94,
   "id": "69190ea2",
   "metadata": {},
   "outputs": [
    {
     "data": {
      "text/plain": [
       "TiempoBin\n",
       "1    17\n",
       "0    13\n",
       "Name: count, dtype: int64"
      ]
     },
     "execution_count": 94,
     "metadata": {},
     "output_type": "execute_result"
    }
   ],
   "source": [
    "datA_vc = datA['TiempoBin'].value_counts()\n",
    "datA_vc"
   ]
  },
  {
   "cell_type": "markdown",
   "id": "7bc0d916",
   "metadata": {},
   "source": [
    "## Explicación\n",
    "---\n",
    "\n",
    "Sobre la media que es 0:42 seg, tenemos 17 que convierten antes de la media y 13 que tardan más de la media en convertir"
   ]
  },
  {
   "cell_type": "code",
   "execution_count": 96,
   "id": "81075745",
   "metadata": {},
   "outputs": [
    {
     "data": {
      "text/plain": [
       "(30, 17)"
      ]
     },
     "execution_count": 96,
     "metadata": {},
     "output_type": "execute_result"
    }
   ],
   "source": [
    "imps_contA = datA['Personas'].count()\n",
    "convsA = datA[datA['TiempoBin'] == 1]\n",
    "convs_contA = convsA['TiempoBin'].count()\n",
    "imps_contA, convs_contA"
   ]
  },
  {
   "cell_type": "code",
   "execution_count": 97,
   "id": "6cf78141",
   "metadata": {},
   "outputs": [
    {
     "data": {
      "text/plain": [
       "0.5666666666666667"
      ]
     },
     "execution_count": 97,
     "metadata": {},
     "output_type": "execute_result"
    }
   ],
   "source": [
    "CR_ctrl_Time = convs_contA/imps_contA\n",
    "CR_ctrl_Time"
   ]
  },
  {
   "cell_type": "markdown",
   "id": "a57744de",
   "metadata": {},
   "source": [
    "Nuestra tasa de conversión es de 0.56"
   ]
  },
  {
   "cell_type": "code",
   "execution_count": 128,
   "id": "f7e9ff54",
   "metadata": {},
   "outputs": [],
   "source": [
    "a_C, b_C = 1+convs_cont, 1+imps_contA-convs_cont\n",
    "beta_control_tiempo = beta(a_C, b_C)"
   ]
  },
  {
   "cell_type": "code",
   "execution_count": 129,
   "id": "4c5e204d",
   "metadata": {},
   "outputs": [
    {
     "data": {
      "text/plain": [
       "0.5625"
      ]
     },
     "execution_count": 129,
     "metadata": {},
     "output_type": "execute_result"
    }
   ],
   "source": [
    "beta_control_tiempo.mean()"
   ]
  },
  {
   "cell_type": "markdown",
   "id": "93ee02d3",
   "metadata": {},
   "source": [
    "Se confirma con Bayes una tasa del 0.56"
   ]
  },
  {
   "cell_type": "markdown",
   "id": "3dd3d143",
   "metadata": {},
   "source": [
    "# Análisis de Buscador\n",
    "---\n",
    "\n",
    "Vamos a analizar uso de buscador frente a categorías"
   ]
  },
  {
   "cell_type": "code",
   "execution_count": 103,
   "id": "a092c19b",
   "metadata": {},
   "outputs": [
    {
     "data": {
      "text/plain": [
       "Buscador\n",
       "1    23\n",
       "0     7\n",
       "Name: count, dtype: int64"
      ]
     },
     "execution_count": 103,
     "metadata": {},
     "output_type": "execute_result"
    }
   ],
   "source": [
    "datA_bus = datA['Buscador'].value_counts()\n",
    "datA_bus"
   ]
  },
  {
   "cell_type": "markdown",
   "id": "0a3d4250",
   "metadata": {},
   "source": [
    "## Explicación\n",
    "---\n",
    "\n",
    "Nos interesa saber la importancia que tiene el buscador y que porcentaje de gente lo usa para llegar al producto"
   ]
  },
  {
   "cell_type": "code",
   "execution_count": 110,
   "id": "a919a4b5",
   "metadata": {},
   "outputs": [
    {
     "data": {
      "text/plain": [
       "(30, 23)"
      ]
     },
     "execution_count": 110,
     "metadata": {},
     "output_type": "execute_result"
    }
   ],
   "source": [
    "convs_busA = datA[datA['Buscador'] == 1]\n",
    "convs_bus_cont = convs_busA['Buscador'].count()\n",
    "imps_contA, convs_bus_cont"
   ]
  },
  {
   "cell_type": "code",
   "execution_count": 105,
   "id": "1ef355c0",
   "metadata": {},
   "outputs": [
    {
     "data": {
      "text/plain": [
       "0.7666666666666667"
      ]
     },
     "execution_count": 105,
     "metadata": {},
     "output_type": "execute_result"
    }
   ],
   "source": [
    "CR_bus_ctrl = convs_bus_cont/imps_contA\n",
    "CR_bus_ctrl"
   ]
  },
  {
   "cell_type": "markdown",
   "id": "b52c2e18",
   "metadata": {},
   "source": [
    "Nuestra tasa de uso de buscador es de 0.76"
   ]
  },
  {
   "cell_type": "code",
   "execution_count": 130,
   "id": "1299b4c7",
   "metadata": {},
   "outputs": [],
   "source": [
    "c_C, d_C = 1+convs_bus_cont, 1+imps_cont-convs_bus_cont\n",
    "beta_control_bus = beta(c_C, d_C)"
   ]
  },
  {
   "cell_type": "code",
   "execution_count": 131,
   "id": "2bae3b7f",
   "metadata": {},
   "outputs": [
    {
     "data": {
      "text/plain": [
       "0.75"
      ]
     },
     "execution_count": 131,
     "metadata": {},
     "output_type": "execute_result"
    }
   ],
   "source": [
    "beta_control_bus.mean()"
   ]
  },
  {
   "cell_type": "markdown",
   "id": "455d87f6",
   "metadata": {},
   "source": [
    "Se confirma con Bayes una tasa del 0.75"
   ]
  },
  {
   "cell_type": "markdown",
   "id": "bc8401b1",
   "metadata": {},
   "source": [
    "# Análisis de Cesta\n",
    "---\n",
    "Vamos a analizar el uso de la cesta frente al pago ya"
   ]
  },
  {
   "cell_type": "code",
   "execution_count": 108,
   "id": "88322d21",
   "metadata": {},
   "outputs": [
    {
     "data": {
      "text/plain": [
       "Cesta\n",
       "1    16\n",
       "0    14\n",
       "Name: count, dtype: int64"
      ]
     },
     "execution_count": 108,
     "metadata": {},
     "output_type": "execute_result"
    }
   ],
   "source": [
    "datA_ces = datA['Cesta'].value_counts()\n",
    "datA_ces"
   ]
  },
  {
   "cell_type": "markdown",
   "id": "e7ad7ce4",
   "metadata": {},
   "source": [
    "## Explicación\n",
    "---\n",
    "\n",
    "Nos interesa saber cuanta gente utiliza el pago ya frente a la cesta de la compra"
   ]
  },
  {
   "cell_type": "code",
   "execution_count": 111,
   "id": "b96ebd5e",
   "metadata": {},
   "outputs": [
    {
     "data": {
      "text/plain": [
       "(30, 16)"
      ]
     },
     "execution_count": 111,
     "metadata": {},
     "output_type": "execute_result"
    }
   ],
   "source": [
    "convs_cesA = datA[datA['Cesta'] == 1]\n",
    "convs_ces_cont = convs_cesA['Cesta'].count()\n",
    "imps_contA, convs_ces_cont"
   ]
  },
  {
   "cell_type": "code",
   "execution_count": 132,
   "id": "8d849bbf",
   "metadata": {},
   "outputs": [
    {
     "data": {
      "text/plain": [
       "0.53333"
      ]
     },
     "execution_count": 132,
     "metadata": {},
     "output_type": "execute_result"
    }
   ],
   "source": [
    "CR_ces_ctrl = convs_ces_cont/imps_contA\n",
    "round(CR_ces_ctrl, 5)"
   ]
  },
  {
   "cell_type": "markdown",
   "id": "3e436404",
   "metadata": {},
   "source": [
    "Nuestra tasa de uso de buscador es de 0.53"
   ]
  },
  {
   "cell_type": "code",
   "execution_count": 133,
   "id": "e115faa8",
   "metadata": {},
   "outputs": [],
   "source": [
    "e_C, f_C = 1+convs_ces_cont, 1+imps_contA-convs_ces_cont\n",
    "beta_control_cesta = beta(e_C, f_C)"
   ]
  },
  {
   "cell_type": "code",
   "execution_count": 134,
   "id": "d4c303e2",
   "metadata": {},
   "outputs": [
    {
     "data": {
      "text/plain": [
       "0.53125"
      ]
     },
     "execution_count": 134,
     "metadata": {},
     "output_type": "execute_result"
    }
   ],
   "source": [
    "beta_control_cesta.mean()"
   ]
  },
  {
   "cell_type": "markdown",
   "id": "0ace6e8a",
   "metadata": {},
   "source": [
    "Se confirma con Bayes una tasa del 0.53"
   ]
  },
  {
   "cell_type": "markdown",
   "id": "e53058d8",
   "metadata": {},
   "source": [
    "# Test B\n",
    "---"
   ]
  },
  {
   "cell_type": "code",
   "execution_count": 166,
   "id": "fa386125",
   "metadata": {},
   "outputs": [
    {
     "data": {
      "text/html": [
       "<div>\n",
       "<style scoped>\n",
       "    .dataframe tbody tr th:only-of-type {\n",
       "        vertical-align: middle;\n",
       "    }\n",
       "\n",
       "    .dataframe tbody tr th {\n",
       "        vertical-align: top;\n",
       "    }\n",
       "\n",
       "    .dataframe thead th {\n",
       "        text-align: right;\n",
       "    }\n",
       "</style>\n",
       "<table border=\"1\" class=\"dataframe\">\n",
       "  <thead>\n",
       "    <tr style=\"text-align: right;\">\n",
       "      <th></th>\n",
       "      <th>Personas</th>\n",
       "      <th>Tiempo TOTAL</th>\n",
       "      <th>Unnamed: 2</th>\n",
       "      <th>Buscador</th>\n",
       "      <th>Cesta</th>\n",
       "    </tr>\n",
       "  </thead>\n",
       "  <tbody>\n",
       "    <tr>\n",
       "      <th>0</th>\n",
       "      <td>1</td>\n",
       "      <td>0:43</td>\n",
       "      <td>1</td>\n",
       "      <td>0</td>\n",
       "      <td>0</td>\n",
       "    </tr>\n",
       "    <tr>\n",
       "      <th>1</th>\n",
       "      <td>2</td>\n",
       "      <td>0:37</td>\n",
       "      <td>1</td>\n",
       "      <td>0</td>\n",
       "      <td>0</td>\n",
       "    </tr>\n",
       "    <tr>\n",
       "      <th>2</th>\n",
       "      <td>3</td>\n",
       "      <td>0:38</td>\n",
       "      <td>1</td>\n",
       "      <td>0</td>\n",
       "      <td>0</td>\n",
       "    </tr>\n",
       "    <tr>\n",
       "      <th>3</th>\n",
       "      <td>4</td>\n",
       "      <td>0:29</td>\n",
       "      <td>1</td>\n",
       "      <td>0</td>\n",
       "      <td>0</td>\n",
       "    </tr>\n",
       "    <tr>\n",
       "      <th>4</th>\n",
       "      <td>5</td>\n",
       "      <td>0:16</td>\n",
       "      <td>1</td>\n",
       "      <td>0</td>\n",
       "      <td>0</td>\n",
       "    </tr>\n",
       "  </tbody>\n",
       "</table>\n",
       "</div>"
      ],
      "text/plain": [
       "   Personas Tiempo TOTAL  Unnamed: 2  Buscador  Cesta\n",
       "0         1         0:43           1         0      0\n",
       "1         2         0:37           1         0      0\n",
       "2         3         0:38           1         0      0\n",
       "3         4         0:29           1         0      0\n",
       "4         5         0:16           1         0      0"
      ]
     },
     "execution_count": 166,
     "metadata": {},
     "output_type": "execute_result"
    }
   ],
   "source": [
    "datB = pd.read_csv('./DatB.csv')\n",
    "datB.head()"
   ]
  },
  {
   "cell_type": "code",
   "execution_count": 167,
   "id": "9679c698",
   "metadata": {},
   "outputs": [],
   "source": [
    "datB = datB.rename(columns = {'Unnamed: 2': 'TiempoBin'})"
   ]
  },
  {
   "cell_type": "markdown",
   "id": "73f2592e",
   "metadata": {},
   "source": [
    "# Análisis de Tiempo\n",
    "---\n",
    "Vamos a analizar las impresiones frente conversiones"
   ]
  },
  {
   "cell_type": "code",
   "execution_count": 169,
   "id": "813075b5",
   "metadata": {},
   "outputs": [
    {
     "data": {
      "text/plain": [
       "TiempoBin\n",
       "1    15\n",
       "0    15\n",
       "Name: count, dtype: int64"
      ]
     },
     "execution_count": 169,
     "metadata": {},
     "output_type": "execute_result"
    }
   ],
   "source": [
    "datB_vc = datB['TiempoBin'].value_counts()\n",
    "datB_vc"
   ]
  },
  {
   "cell_type": "markdown",
   "id": "6c6c022d",
   "metadata": {},
   "source": [
    "## Explicación\n",
    "---\n",
    "\n",
    "Sobre la media que es 0:46 seg, tenemos 15 que convierten antes de la media y 15 que tardan más de la media en convertir"
   ]
  },
  {
   "cell_type": "code",
   "execution_count": 170,
   "id": "bb1eb291",
   "metadata": {},
   "outputs": [
    {
     "data": {
      "text/plain": [
       "(30, 15)"
      ]
     },
     "execution_count": 170,
     "metadata": {},
     "output_type": "execute_result"
    }
   ],
   "source": [
    "imps_testB = datB['Personas'].count()\n",
    "convs_test = datB[datB['TiempoBin'] == 1]\n",
    "convs_test = convs_test['TiempoBin'].count()\n",
    "imps_testB, convs_test"
   ]
  },
  {
   "cell_type": "code",
   "execution_count": 171,
   "id": "ded6b6b0",
   "metadata": {
    "scrolled": true
   },
   "outputs": [
    {
     "data": {
      "text/plain": [
       "0.5"
      ]
     },
     "execution_count": 171,
     "metadata": {},
     "output_type": "execute_result"
    }
   ],
   "source": [
    "CR_test = convs_test/imps_testB\n",
    "CR_test"
   ]
  },
  {
   "cell_type": "code",
   "execution_count": 172,
   "id": "20addb8c",
   "metadata": {},
   "outputs": [],
   "source": [
    "g_C, h_C = 1+convs_test, 1+imps_testB-convs_test\n",
    "beta_test_tiempo = beta(g_C, h_C)"
   ]
  },
  {
   "cell_type": "code",
   "execution_count": 173,
   "id": "8170b66e",
   "metadata": {},
   "outputs": [
    {
     "data": {
      "text/plain": [
       "0.5"
      ]
     },
     "execution_count": 173,
     "metadata": {},
     "output_type": "execute_result"
    }
   ],
   "source": [
    "beta_test_tiempo.mean()"
   ]
  },
  {
   "cell_type": "markdown",
   "id": "e9e1af59",
   "metadata": {},
   "source": [
    "Se confirma con Bayes una tasa del 0.5"
   ]
  },
  {
   "cell_type": "markdown",
   "id": "6cb140e6",
   "metadata": {},
   "source": [
    "# Análisis de Buscador\n",
    "---\n",
    "\n",
    "Vamos a analizar uso de buscador frente a categorías"
   ]
  },
  {
   "cell_type": "code",
   "execution_count": 174,
   "id": "5e323c56",
   "metadata": {},
   "outputs": [
    {
     "data": {
      "text/plain": [
       "Buscador\n",
       "0    20\n",
       "1    10\n",
       "Name: count, dtype: int64"
      ]
     },
     "execution_count": 174,
     "metadata": {},
     "output_type": "execute_result"
    }
   ],
   "source": [
    "datB_bus = datB['Buscador'].value_counts()\n",
    "datB_bus"
   ]
  },
  {
   "cell_type": "code",
   "execution_count": 175,
   "id": "07b59c6f",
   "metadata": {},
   "outputs": [
    {
     "data": {
      "text/plain": [
       "(30, 10)"
      ]
     },
     "execution_count": 175,
     "metadata": {},
     "output_type": "execute_result"
    }
   ],
   "source": [
    "convs_bus_B = datB[datB['Buscador'] == 1]\n",
    "convs_bus_test = convs_bus_B['Buscador'].count()\n",
    "imps_testB, convs_bus_test"
   ]
  },
  {
   "cell_type": "code",
   "execution_count": 176,
   "id": "899b0020",
   "metadata": {},
   "outputs": [
    {
     "data": {
      "text/plain": [
       "0.3333333333333333"
      ]
     },
     "execution_count": 176,
     "metadata": {},
     "output_type": "execute_result"
    }
   ],
   "source": [
    "CR_bus_test = convs_bus_test/imps_testB\n",
    "CR_bus_test"
   ]
  },
  {
   "cell_type": "code",
   "execution_count": 177,
   "id": "e657d37d",
   "metadata": {},
   "outputs": [],
   "source": [
    "i_C, j_C = 1+convs_bus_test, 1+imps_testB-convs_bus_test\n",
    "beta_test_bus = beta(i_C, j_C)"
   ]
  },
  {
   "cell_type": "code",
   "execution_count": 178,
   "id": "1cb442dc",
   "metadata": {},
   "outputs": [
    {
     "data": {
      "text/plain": [
       "0.34375"
      ]
     },
     "execution_count": 178,
     "metadata": {},
     "output_type": "execute_result"
    }
   ],
   "source": [
    "beta_test_bus.mean()"
   ]
  },
  {
   "cell_type": "markdown",
   "id": "91a738df",
   "metadata": {},
   "source": [
    "# Análisis de Cesta\n",
    "---\n",
    "Vamos a analizar el uso de la cesta frente al pago ya"
   ]
  },
  {
   "cell_type": "code",
   "execution_count": 179,
   "id": "ccf68be5",
   "metadata": {},
   "outputs": [
    {
     "data": {
      "text/plain": [
       "Cesta\n",
       "0    27\n",
       "1     3\n",
       "Name: count, dtype: int64"
      ]
     },
     "execution_count": 179,
     "metadata": {},
     "output_type": "execute_result"
    }
   ],
   "source": [
    "datB_ces = datB['Cesta'].value_counts()\n",
    "datB_ces"
   ]
  },
  {
   "cell_type": "code",
   "execution_count": 180,
   "id": "e74ab1a6",
   "metadata": {},
   "outputs": [
    {
     "data": {
      "text/plain": [
       "(30, 3)"
      ]
     },
     "execution_count": 180,
     "metadata": {},
     "output_type": "execute_result"
    }
   ],
   "source": [
    "convs_ces_B = datB[datB['Cesta'] == 1]\n",
    "convs_ces_test = convs_ces_B['Cesta'].count()\n",
    "imps_testB, convs_ces_test"
   ]
  },
  {
   "cell_type": "code",
   "execution_count": 181,
   "id": "189c5e45",
   "metadata": {},
   "outputs": [
    {
     "data": {
      "text/plain": [
       "0.1"
      ]
     },
     "execution_count": 181,
     "metadata": {},
     "output_type": "execute_result"
    }
   ],
   "source": [
    "CR_ces_test = convs_ces_test/imps_testB\n",
    "round(CR_ces_test, 5)"
   ]
  },
  {
   "cell_type": "code",
   "execution_count": 182,
   "id": "da22ed8a",
   "metadata": {},
   "outputs": [],
   "source": [
    "k_C, l_C = 1+convs_ces_test, 1+imps_testB-convs_ces_test\n",
    "beta_test_cesta = beta(k_C, l_C)"
   ]
  },
  {
   "cell_type": "code",
   "execution_count": 183,
   "id": "e2bc1be9",
   "metadata": {},
   "outputs": [
    {
     "data": {
      "text/plain": [
       "0.125"
      ]
     },
     "execution_count": 183,
     "metadata": {},
     "output_type": "execute_result"
    }
   ],
   "source": [
    "beta_test_cesta.mean()"
   ]
  },
  {
   "cell_type": "markdown",
   "id": "8132c6fd",
   "metadata": {},
   "source": [
    "# Análisis de confianza\n",
    "---"
   ]
  },
  {
   "cell_type": "markdown",
   "id": "38028d4a",
   "metadata": {},
   "source": [
    "### Tiempo"
   ]
  },
  {
   "cell_type": "code",
   "execution_count": 184,
   "id": "ac777e6d",
   "metadata": {},
   "outputs": [
    {
     "data": {
      "text/plain": [
       "0.6944355167509754"
      ]
     },
     "execution_count": 184,
     "metadata": {},
     "output_type": "execute_result"
    }
   ],
   "source": [
    "calc_prob(beta_control_tiempo, beta_test_tiempo)"
   ]
  },
  {
   "cell_type": "code",
   "execution_count": 185,
   "id": "c98e7bf7",
   "metadata": {},
   "outputs": [
    {
     "data": {
      "text/plain": [
       "-11.11111111111111"
      ]
     },
     "execution_count": 185,
     "metadata": {},
     "output_type": "execute_result"
    }
   ],
   "source": [
    "salto = (beta_test_tiempo.mean() - beta_control_tiempo.mean()) / beta_control_tiempo.mean()\n",
    "salto*100"
   ]
  },
  {
   "cell_type": "markdown",
   "id": "57e39f05",
   "metadata": {},
   "source": [
    "### Conclusión Tiempo\n",
    "---\n",
    "\n",
    "Con los cambios realizados en el test b, se reduce el tiempo en un 11% con una probabilidad del 69.44%"
   ]
  },
  {
   "cell_type": "markdown",
   "id": "44b26e5f",
   "metadata": {},
   "source": [
    "### Buscador"
   ]
  },
  {
   "cell_type": "code",
   "execution_count": 186,
   "id": "543394c5",
   "metadata": {},
   "outputs": [
    {
     "data": {
      "text/plain": [
       "0.9996198759710462"
      ]
     },
     "execution_count": 186,
     "metadata": {},
     "output_type": "execute_result"
    }
   ],
   "source": [
    "calc_prob(beta_control_bus, beta_test_bus)"
   ]
  },
  {
   "cell_type": "code",
   "execution_count": 187,
   "id": "721bca50",
   "metadata": {},
   "outputs": [
    {
     "data": {
      "text/plain": [
       "-54.166666666666664"
      ]
     },
     "execution_count": 187,
     "metadata": {},
     "output_type": "execute_result"
    }
   ],
   "source": [
    "salto = (beta_test_bus.mean() - beta_control_bus.mean()) / beta_control_bus.mean()\n",
    "salto*100"
   ]
  },
  {
   "cell_type": "markdown",
   "id": "17a09cbb",
   "metadata": {},
   "source": [
    "### Conclusión Buscador\n",
    "---\n",
    "\n",
    "Con los cambios realizados en el test b, se reduce el numero de veces que usan el buscador en un 54% con una probabilidad del 99.96%"
   ]
  },
  {
   "cell_type": "markdown",
   "id": "fe68ed92",
   "metadata": {},
   "source": [
    "### Cesta"
   ]
  },
  {
   "cell_type": "code",
   "execution_count": 188,
   "id": "e413efd6",
   "metadata": {},
   "outputs": [
    {
     "data": {
      "text/plain": [
       "0.9998596246607286"
      ]
     },
     "execution_count": 188,
     "metadata": {},
     "output_type": "execute_result"
    }
   ],
   "source": [
    "calc_prob(beta_control_cesta, beta_test_cesta)"
   ]
  },
  {
   "cell_type": "code",
   "execution_count": 189,
   "id": "ad624775",
   "metadata": {},
   "outputs": [
    {
     "data": {
      "text/plain": [
       "-76.47058823529412"
      ]
     },
     "execution_count": 189,
     "metadata": {},
     "output_type": "execute_result"
    }
   ],
   "source": [
    "salto = (beta_test_cesta.mean() - beta_control_cesta.mean()) / beta_control_cesta.mean()\n",
    "salto*100"
   ]
  },
  {
   "cell_type": "markdown",
   "id": "20d7bba9",
   "metadata": {},
   "source": [
    "### Conclusión Cesta\n",
    "---\n",
    "\n",
    "Con los cambios realizados en el test b, se reduce el numero de veces que usan el buscador en un 76% con una probabilidad del 99.98%"
   ]
  },
  {
   "cell_type": "markdown",
   "id": "71de9b11",
   "metadata": {},
   "source": [
    "# Gráficos\n",
    "---"
   ]
  },
  {
   "cell_type": "code",
   "execution_count": 190,
   "id": "6a830087",
   "metadata": {},
   "outputs": [],
   "source": [
    "def plot(betas, names, linf=0, lsup=0.006):\n",
    "    x=np.linspace(linf, lsup, 100)\n",
    "    for f, n in zip(betas, names):\n",
    "        y=f.pdf(x)\n",
    "        y_pico=pico(f.args[0], f.args[1])\n",
    "        y_var=f.var()\n",
    "        plt.plot(x, y, label='{}, tasa de conv: {:.6f} $\\pm$ {:.10f}'.format(n, y_pico, y_var))\n",
    "        plt.yticks([])\n",
    "    plt.legend()\n",
    "    plt.show();"
   ]
  },
  {
   "cell_type": "code",
   "execution_count": 197,
   "id": "320c1080",
   "metadata": {},
   "outputs": [
    {
     "data": {
      "image/png": "[encoded data removed]",
      "text/plain": [
       "<Figure size 640x480 with 1 Axes>"
      ]
     },
     "metadata": {},
     "output_type": "display_data"
    }
   ],
   "source": [
    "plot([beta_control_tiempo, beta_test_tiempo], ['Control tiempo', 'Test tiempo'], linf=0, lsup=1)"
   ]
  },
  {
   "cell_type": "code",
   "execution_count": 196,
   "id": "6ffb3345",
   "metadata": {},
   "outputs": [
    {
     "data": {
      "image/png": "[encoded data removed]",
      "text/plain": [
       "<Figure size 640x480 with 1 Axes>"
      ]
     },
     "metadata": {},
     "output_type": "display_data"
    }
   ],
   "source": [
    "plot([beta_control_bus, beta_test_bus], ['Control Bus', 'Test Bus'], linf=0, lsup=1)"
   ]
  },
  {
   "cell_type": "code",
   "execution_count": 201,
   "id": "f173d44a",
   "metadata": {},
   "outputs": [
    {
     "data": {
      "image/png": "[encoded data removed]",
      "text/plain": [
       "<Figure size 640x480 with 1 Axes>"
      ]
     },
     "metadata": {},
     "output_type": "display_data"
    }
   ],
   "source": [
    "plot([beta_test_cesta, beta_control_cesta], ['Control cesta', 'Test cesta'], linf=0, lsup=1)"
   ]
  },
  {
   "cell_type": "code",
   "execution_count": null,
   "id": "cbbb264d",
   "metadata": {},
   "outputs": [],
   "source": []
  }
 ],
 "metadata": {
  "kernelspec": {
   "display_name": "Python 3 (ipykernel)",
   "language": "python",
   "name": "python3"
  },
  "language_info": {
   "codemirror_mode": {
    "name": "ipython",
    "version": 3
   },
   "file_extension": ".py",
   "mimetype": "text/x-python",
   "name": "python",
   "nbconvert_exporter": "python",
   "pygments_lexer": "ipython3",
   "version": "3.11.1"
  }
 },
 "nbformat": 4,
 "nbformat_minor": 5
}
